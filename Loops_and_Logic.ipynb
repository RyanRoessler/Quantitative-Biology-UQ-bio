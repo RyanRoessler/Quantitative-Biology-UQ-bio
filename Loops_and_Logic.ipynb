{
  "nbformat": 4,
  "nbformat_minor": 0,
  "metadata": {
    "colab": {
      "provenance": []
    },
    "kernelspec": {
      "name": "python3",
      "display_name": "Python 3"
    },
    "language_info": {
      "name": "python"
    }
  },
  "cells": [
    {
      "cell_type": "markdown",
      "metadata": {
        "id": "yragkqwvZ6bU"
      },
      "source": [
        "# Intro to Python: Loops, Ranges, Functions, Lambdas, List Comprehension\n",
        "\n",
        "----------\n",
        "## Qbio Summer School 2022\n",
        "\n",
        "--------------\n",
        "```\n",
        "Instructor: Will Raymond\n",
        "Author: Will Raymond\n",
        "Contact Info: wsraymon@rams.colostate.edu\n",
        "```\n",
        "<details>\n",
        "  <summary>Copyright info</summary>\n",
        "\n",
        "```\n",
        "Copyright 2022 Brian Munsky\n",
        "\n",
        "Redistribution and use in source and binary forms, with or without modification, are permitted provided that the following conditions are met:\n",
        "\n",
        "1. Redistributions of source code must retain the above copyright notice, this list of conditions and the following disclaimer.\n",
        "\n",
        "2. Redistributions in binary form must reproduce the above copyright notice, this list of conditions and the following disclaimer in the documentation and/or other materials provided with the distribution.\n",
        "\n",
        "3. Neither the name of the copyright holder nor the names of its contributors may be used to endorse or promote products derived from this software without specific prior written permission.\n",
        "\n",
        "THIS SOFTWARE IS PROVIDED BY THE COPYRIGHT HOLDERS AND CONTRIBUTORS \"AS IS\" AND ANY EXPRESS OR IMPLIED WARRANTIES, INCLUDING, BUT NOT LIMITED TO, THE IMPLIED WARRANTIES OF MERCHANTABILITY AND FITNESS FOR A PARTICULAR PURPOSE ARE DISCLAIMED. IN NO EVENT SHALL THE COPYRIGHT HOLDER OR CONTRIBUTORS BE LIABLE FOR ANY DIRECT, INDIRECT, INCIDENTAL, SPECIAL, EXEMPLARY, OR CONSEQUENTIAL DAMAGES (INCLUDING, BUT NOT LIMITED TO, PROCUREMENT OF SUBSTITUTE GOODS OR SERVICES; LOSS OF USE, DATA, OR PROFITS; OR BUSINESS INTERRUPTION) HOWEVER CAUSED AND ON ANY THEORY OF LIABILITY, WHETHER IN CONTRACT, STRICT LIABILITY, OR TORT (INCLUDING NEGLIGENCE OR OTHERWISE) ARISING IN ANY WAY OUT OF THE USE OF THIS SOFTWARE, EVEN IF ADVISED OF THE POSSIBILITY OF SUCH DAMAGE.\n",
        "```\n",
        "<details>\n",
        "\n",
        "Ok we have checked out a few of the default types of python, how do we actually put these together into usable code?\n",
        "\n",
        "The answer is to use loops, logic and functions!\n"
      ]
    },
    {
      "cell_type": "markdown",
      "metadata": {
        "id": "xMxDzuriVohE"
      },
      "source": [
        "## For Loops\n",
        "\n",
        "A for loop loops over values an iterable given, whether its a range(), list or dictionary. Python is uses indentations to define its code blocks, meaning you must indent the code to run in the for loop.\n",
        "\n",
        "```\n",
        "for value in iterable:\n",
        "  #Inside the loop\n",
        "  print(value)\n",
        "\n",
        "print(value)\n",
        "#outside the loop\n",
        "```\n",
        "\n",
        "If you are iterating over an unordered iterable object (such as a dictionary or set), note that it is not a set order and different instances of python may handle the ordering differently. Additionally when using ``` for x in dictionary```, Python will iterate over keys, not values. To iterate over values use ``` for x in dictionary.values()```\n"
      ]
    },
    {
      "cell_type": "code",
      "metadata": {
        "colab": {
          "base_uri": "https://localhost:8080/"
        },
        "id": "rusjOADxyDdg",
        "outputId": "138f6c0f-2608-48ac-e4fb-cf0d85d5a858"
      },
      "source": [
        "# Example for loop!\n",
        "\n",
        "for i in range (0,5):  # for i iterating from 0 to 4, list(range(0,4)) = [0,1,2,3,4]\n",
        "  print('im in the loop!')\n",
        "  print(i)\n",
        "print('im outside the loop')"
      ],
      "execution_count": 1,
      "outputs": [
        {
          "output_type": "stream",
          "name": "stdout",
          "text": [
            "im in the loop!\n",
            "0\n",
            "im in the loop!\n",
            "1\n",
            "im in the loop!\n",
            "2\n",
            "im in the loop!\n",
            "3\n",
            "im in the loop!\n",
            "4\n",
            "im outside the loop\n"
          ]
        }
      ]
    },
    {
      "cell_type": "code",
      "metadata": {
        "colab": {
          "base_uri": "https://localhost:8080/"
        },
        "id": "zkKNIypFVq6D",
        "outputId": "1936220f-7202-4ebb-a90e-67c1cf362b87"
      },
      "source": [
        "example_iterables = {\"list\": [1,2,3],  # a list\n",
        "                     \"tuple\": (1,2,3), # a tuple\n",
        "                     \"range\": range(1,4), # a range object\n",
        "                     \"dict\": {'a':1,'b':2,'c':3}, # a dictionary\n",
        "                     \"dict.values()\":{'a':1,'b':2,'c':3}.values() # only a dictionaries values\n",
        "                     }\n",
        "\n",
        "iterable = \"dict.values()\" #@param [\"list\",\"tuple\",\"range\",\"dict\",\"dict.values()\"] {allow-input: true}\n",
        "print('iterating over a %s'%iterable) #\n",
        "for x in example_iterables[iterable]:\n",
        "  print(x)"
      ],
      "execution_count": 2,
      "outputs": [
        {
          "output_type": "stream",
          "name": "stdout",
          "text": [
            "iterating over a dict.values()\n",
            "1\n",
            "2\n",
            "3\n"
          ]
        }
      ]
    },
    {
      "cell_type": "code",
      "source": [
        "# my test code\n",
        "example_iterables = {\"list\": [1,2,3],  # a list\n",
        "                     \"tuple\": (1,2,3), # a tuple\n",
        "                     \"range\": range(1,4), # a range object\n",
        "                     \"dict\": {'a':1,'b':2,'c':3}, # a dictionary\n",
        "                     \"dict.values()\":{'a':1,'b':2,'c':3} # x will loop through the keys this time\n",
        "                     }\n",
        "\n",
        "#iterable = \"dict.values()\" #@param [\"list\",\"tuple\",\"range\",\"dict\",\"dict.values()\"] {allow-input: true}\n",
        "iterable = list(example_iterables)[4] #defines iterable via indexing the dictionary as a list\n",
        "print('iterating over a %s'%iterable)\n",
        "for x in example_iterables[iterable]:\n",
        "  print(x)"
      ],
      "metadata": {
        "colab": {
          "base_uri": "https://localhost:8080/"
        },
        "id": "HWwbiEMzCDC0",
        "outputId": "830adaf3-590b-4b17-c146-66076700996d"
      },
      "execution_count": 3,
      "outputs": [
        {
          "output_type": "stream",
          "name": "stdout",
          "text": [
            "iterating over a dict.values()\n",
            "a\n",
            "b\n",
            "c\n"
          ]
        }
      ]
    },
    {
      "cell_type": "markdown",
      "metadata": {
        "id": "KL99T5FBVttq"
      },
      "source": [
        "## While Loops\n",
        "\n",
        "While loops will run until a particular condition is met or the statement ```break``` is reached. As with For loops, you must indent the code inside for a new code block. However, be sure you give a way for the loop to break! Otherwise it will never end until manually killed by a user (Ctrl-C / Command-C)\n",
        "\n",
        "Acceptable:\n",
        "\n",
        "```\n",
        "x = 0\n",
        "while x < 50:\n",
        "  x+=1\n",
        "```\n",
        "\n",
        "Unacceptable -- will never end:\n",
        "```\n",
        "while x == 0:\n",
        "  x=0\n",
        "```\n",
        "\n",
        "Acceptable -- will break once a particular value is reached:\n",
        "\n",
        "\n",
        "```\n",
        "import numpy as np   #import numpy so we can draw some random numbers\n",
        "\n",
        "desired_number = 23\n",
        "total_draws = 0\n",
        "while True: #this loop will run forever\n",
        "  x = np.random.randint(0,50) # draw a random number 0 - 49\n",
        "  total_draws += 1  #count how many numbers we drew\n",
        "  if x == desired_number:  #if the random number is the desired number, break the while loop\n",
        "    break   \n",
        "\n",
        "```\n"
      ]
    },
    {
      "cell_type": "code",
      "metadata": {
        "id": "w8_EJrpVVv66",
        "colab": {
          "base_uri": "https://localhost:8080/"
        },
        "outputId": "ad8d0513-ed55-4a62-bc92-f23b5a39feb4"
      },
      "source": [
        "import numpy as np   #import numpy so we can draw some random numbers\n",
        "\n",
        "desired_number = 23\n",
        "total_draws = 0\n",
        "while True: #this loop will run forever\n",
        "  x = np.random.randint(0,50) # draw a random number 0 - 49\n",
        "  total_draws += 1  #count how many numbers we drew\n",
        "  if x == desired_number:  #if the random number is the desired number, break the while loop\n",
        "    break\n",
        "print(total_draws)"
      ],
      "execution_count": 4,
      "outputs": [
        {
          "output_type": "stream",
          "name": "stdout",
          "text": [
            "67\n"
          ]
        }
      ]
    },
    {
      "cell_type": "code",
      "source": [
        "x = 0\n",
        "print('x = %i before loop'%x) # '%i' becomes what x is equal to ('%x'), as an int\n",
        "\n",
        "while x < 50:\n",
        "  x+=1\n",
        "print('x = %i after loop'%x)"
      ],
      "metadata": {
        "colab": {
          "base_uri": "https://localhost:8080/"
        },
        "id": "c7ErxQX2ImIY",
        "outputId": "cc05f2f7-f185-4bb4-db53-465601526a7e"
      },
      "execution_count": 5,
      "outputs": [
        {
          "output_type": "stream",
          "name": "stdout",
          "text": [
            "x = 0 before loop\n",
            "x = 50 after loop\n"
          ]
        }
      ]
    },
    {
      "cell_type": "code",
      "metadata": {
        "id": "-2qUU10zVwB_",
        "colab": {
          "base_uri": "https://localhost:8080/"
        },
        "outputId": "32be98b6-2ddc-4aa5-b551-90df80c38efc"
      },
      "source": [
        "## Heres a short code that will draw random numbers until a desired number is reached using a while loop\n",
        "\n",
        "import numpy as np   #import numpy so we can draw some random numbers\n",
        "import time\n",
        "\n",
        "starting_time = time.time() #lets time how long this loop takes\n",
        "\n",
        "desired_number = 23\n",
        "total_draws = 0\n",
        "\n",
        "#beginning of the while loop, remember the code inside\n",
        "# the indentation is the code block in the while statement\n",
        "\n",
        "while True: #this loop will run forever\n",
        "  max_number = 993  #@param {type:\"slider\", min:0, max:1500, step:1}\n",
        "  x = np.random.randint(0,max_number) # draw a random number 0 - 49\n",
        "  total_draws += 1  #count how many numbers we drew\n",
        "  if x == desired_number:  #if the random number is the desired number, break the while loop\n",
        "    break   #end the while loop!\n",
        "\n",
        "\n",
        "execution_time = time.time()-starting_time\n",
        "print('Total draws til getting a %i: %i'%(desired_number,total_draws))\n",
        "print('Execution time of the loop %f seconds'%(execution_time))\n",
        "\n"
      ],
      "execution_count": 6,
      "outputs": [
        {
          "output_type": "stream",
          "name": "stdout",
          "text": [
            "Total draws til getting a 23: 920\n",
            "Execution time of the loop 0.010036 seconds\n"
          ]
        }
      ]
    },
    {
      "cell_type": "markdown",
      "metadata": {
        "id": "AAF08LKVVwq_"
      },
      "source": [
        "## Logic Statements\n",
        "\n",
        "Logical statements are also crucial to coding!\n",
        "\n",
        "\n",
        "| Operator    | Description | Example  | Result\n",
        "| ----------- | ----------- | ------------ | --------- |\n",
        "| ==      |  equal to   | ```1 == 1``` | ```True``` |\n",
        "| != | not equal to |   ```1 != 1``` | ```False``` |\n",
        "| >=   |  greater than or equal to   |    ```5 >= 1 ``` | ```True``` |\n",
        "| <= | less than or equal to |    ```1 <= 1 ``` | ```True``` |\n",
        "| > | greater than | ```1 > 3``` | ```False``` |\n",
        "| < | less than | ```1 < 3``` | ```True``` |\n",
        "\n",
        "\n",
        "\n",
        "| Operator    | Description | Example | Result\n",
        "| ----------- | ----------- | ------------ | ---------- |\n",
        "| and   |  multiple statements are true, return true | ```1==1 and 2==1 ```   | ```False``` |\n",
        "| or | one of multiple statements is true, return true |```1==1 or 2==1 ```   | ```True``` |\n",
        "| not   |  the opposite of a statement | ```not(1==1) ```    |  ```False``` |\n",
        "| is | are the objects the same? | ```int(1) is int(1)```  |  ```True``` |\n",
        "| is not | are the objects different?  | ```int(1) is float(1)```|  ```True``` |\n",
        "| in | is an object in an iterable?  | ```'a' in ['a','b','c]``` |  ```True``` |\n",
        "| not in | is an object not in an iterable? |```'f' not in ['a','b','c]```  |  ```True``` |\n",
        "\n"
      ]
    },
    {
      "cell_type": "markdown",
      "metadata": {
        "id": "md3miyISFfzX"
      },
      "source": [
        "## If Statements\n",
        "\n",
        "If statements run the code block if the logical condition they are handed is true.\n",
        "\n",
        "```\n",
        "x = 0\n",
        "if x == 1:\n",
        "  print('x equals 1')\n",
        "\n",
        "if x == 0:\n",
        "  print('x equals 0')\n",
        "\n",
        "```\n",
        "\n",
        "\n"
      ]
    },
    {
      "cell_type": "code",
      "metadata": {
        "colab": {
          "base_uri": "https://localhost:8080/"
        },
        "id": "ROph8iU_FvrX",
        "outputId": "6987558a-cb1b-4db6-8a52-0356a5aa64a9"
      },
      "source": [
        "x = 0\n",
        "if x == 1:\n",
        "  print('x equals 1')\n",
        "\n",
        "if x == 0:\n",
        "  print('x equals 0')\n"
      ],
      "execution_count": 7,
      "outputs": [
        {
          "output_type": "stream",
          "name": "stdout",
          "text": [
            "x equals 0\n"
          ]
        }
      ]
    },
    {
      "cell_type": "markdown",
      "metadata": {
        "id": "dt-L0vDpTAIi"
      },
      "source": [
        "Additionally you can do multiple conditions with ```elif``` and ```else```\n",
        "\n",
        "In this example, the if else handles the case where x == 1 and x == anything else\n",
        "\n",
        "```\n",
        "x = 2\n",
        "if x == 1:\n",
        "  print('x equals 1')\n",
        "else:\n",
        "  print('x equals something other than 1)\n",
        "\n",
        "```\n"
      ]
    },
    {
      "cell_type": "code",
      "metadata": {
        "colab": {
          "base_uri": "https://localhost:8080/"
        },
        "id": "qtxg1fz4Fvyo",
        "outputId": "650abbf8-3310-4685-caeb-53c2fc2e0f8a"
      },
      "source": [
        "x = 2\n",
        "if x == 1:\n",
        "  print('x equals 1')\n",
        "else:\n",
        "  print('x equals something other than 1')\n",
        "  print('x equals ' + str(x))"
      ],
      "execution_count": 8,
      "outputs": [
        {
          "output_type": "stream",
          "name": "stdout",
          "text": [
            "x equals something other than 1\n",
            "x equals 2\n"
          ]
        }
      ]
    },
    {
      "cell_type": "markdown",
      "metadata": {
        "id": "TvjVUVpPTOmB"
      },
      "source": [
        "with an ```elif``` statement you can handle multiple conditions, and the condition where nothing meets the above conditions.\n",
        "\n",
        "```\n",
        "x = 2\n",
        "if x == 1:\n",
        "  print('x equals 1')\n",
        "elif x==2:\n",
        "  print('x equals 1')\n",
        "elif x==3:\n",
        "  print('x equals 3')\n",
        "else:\n",
        "  print('x does not equal 1, 2, or 3')\n",
        "\n",
        "```\n"
      ]
    },
    {
      "cell_type": "code",
      "metadata": {
        "colab": {
          "base_uri": "https://localhost:8080/"
        },
        "id": "5qQ-KcvzTun3",
        "outputId": "284f361c-0f7d-47ff-cb7f-30ac2665b683"
      },
      "source": [
        "\n",
        "x = \"3\" # @param [1,2,3,4,5,6]\n",
        "x = int(x) #convert str dropdown to an integer\n",
        "if x == 1:\n",
        "  print('x equals 1')\n",
        "elif x==2:\n",
        "  print('x equals 2')\n",
        "elif x==3:\n",
        "  print('x equals 3')\n",
        "else:\n",
        "  print('x does not equal 1, 2, or 3')"
      ],
      "execution_count": 9,
      "outputs": [
        {
          "output_type": "stream",
          "name": "stdout",
          "text": [
            "x equals 3\n"
          ]
        }
      ]
    },
    {
      "cell_type": "markdown",
      "source": [
        "Logical statements can also be strung together using various operators such as ```and```, or ```or```"
      ],
      "metadata": {
        "id": "_ZJGoJehSdKd"
      }
    },
    {
      "cell_type": "code",
      "source": [
        "x = 5 #@param {type:\"slider\", min:0, max:25, step:1}\n",
        "if x % 5 == 0 and x < 10 and x > 0:\n",
        "  print('X can only equal 5')\n",
        "else:\n",
        "  print('X does not equal 5')\n"
      ],
      "metadata": {
        "colab": {
          "base_uri": "https://localhost:8080/"
        },
        "id": "gSKF_qoDScar",
        "outputId": "c45630e5-cb04-4d54-d779-3f6a428911e6"
      },
      "execution_count": 10,
      "outputs": [
        {
          "output_type": "stream",
          "name": "stdout",
          "text": [
            "X can only equal 5\n"
          ]
        }
      ]
    },
    {
      "cell_type": "markdown",
      "metadata": {
        "id": "fHt0WskoV1En"
      },
      "source": [
        "## range, enumerate, zip\n",
        "\n",
        "range(start, stop, step) returns a range object containing an iterator of numbers start to stop in (integer) segments of step\n",
        "\n",
        "| Example  | Result\n",
        "| ------------ | --------- |\n",
        "| ```list(range(0,5))```   | ```[0,1,2,3,4,]```  |\n",
        "| ```list(range(5,0,-1))```   | ```[4,3,2,1,0]```  |\n",
        "| ```list(range(0,5,2))```   | ```[0,2,4]```  |\n",
        "\n",
        "```enumerate(iterable)``` is similar to iterating of the range of a length of an object, but enumerate gives a more readable form and returns out indexes of the iterable and the value of that index in the form of a tuple pair. For example converting the enumerate(list) would give you a list of tuples, with (index, list_value) as the entries in that list, take a glance:\n",
        "\n",
        "| Example  | Result\n",
        "| ------------ | --------- |\n",
        "| ```list(enumerate(['a','b','c']))```   | ```[(0, 'a'), (1, 'b'), (2, 'c')]```  |\n",
        "\n",
        "These three for loops are equivalent:\n",
        "```\n",
        "tmp_list = ['a','b','c','d','e']\n",
        "for i in range(0,len(tmp_list)):  \n",
        "  print(tmp_list[i])\n",
        "```\n",
        "\n",
        "```\n",
        "tmp_list = ['a','b','c','d','e']\n",
        "for ind,list_value in enumerate(tmp_list):\n",
        "  print(list_value)\n",
        "```\n",
        "\n",
        "```\n",
        "tmp_inds = [0,1,2,3,4]\n",
        "tmp_list = ['a','b','c','d','e']\n",
        "for ind,list_value in zip(tmp_inds,tmp_list):\n",
        "  print(list_value)\n",
        "```\n",
        "\n"
      ]
    },
    {
      "cell_type": "code",
      "source": [
        "print('Example For loop with a range:')\n",
        "for i in range(0,5):\n",
        "  print(i)\n",
        "\n",
        "print('')\n",
        "print('Example For loop with an enumerate of a list:')\n",
        "tmp_list = ['a','b','c','d','e']\n",
        "for index,value in enumerate(tmp_list):\n",
        "  print(index, value)\n",
        "\n",
        "\n",
        "print('')\n",
        "print('Example For loop with an zipped list indexes and values:')\n",
        "tmp_inds = [0,1,2,3,4]\n",
        "tmp_list = ['a','b','c','d','e']\n",
        "for ind,list_value in zip(tmp_inds,tmp_list):\n",
        "  print(ind, list_value)"
      ],
      "metadata": {
        "colab": {
          "base_uri": "https://localhost:8080/"
        },
        "id": "Ft_313PimhLZ",
        "outputId": "1ad6d7fb-ea24-43c8-ce51-6b6739d95dd9"
      },
      "execution_count": 11,
      "outputs": [
        {
          "output_type": "stream",
          "name": "stdout",
          "text": [
            "Example For loop with a range:\n",
            "0\n",
            "1\n",
            "2\n",
            "3\n",
            "4\n",
            "\n",
            "Example For loop with an enumerate of a list:\n",
            "0 a\n",
            "1 b\n",
            "2 c\n",
            "3 d\n",
            "4 e\n",
            "\n",
            "Example For loop with an zipped list indexes and values:\n",
            "0 a\n",
            "1 b\n",
            "2 c\n",
            "3 d\n",
            "4 e\n"
          ]
        }
      ]
    },
    {
      "cell_type": "code",
      "metadata": {
        "id": "5XWsl1hmV8tr",
        "colab": {
          "base_uri": "https://localhost:8080/"
        },
        "outputId": "c44f9a1c-efe6-4e0e-9fc5-288cdde19b0b"
      },
      "source": [
        "list(enumerate(['a','b','c']))"
      ],
      "execution_count": 12,
      "outputs": [
        {
          "output_type": "execute_result",
          "data": {
            "text/plain": [
              "[(0, 'a'), (1, 'b'), (2, 'c')]"
            ]
          },
          "metadata": {},
          "execution_count": 12
        }
      ]
    },
    {
      "cell_type": "markdown",
      "metadata": {
        "id": "gzvM8NNIV843"
      },
      "source": [
        "## List Comprehension\n",
        "\n",
        "List comprehension is a powerful method to process some of the looping logic in python without writing a full loop. For example these two statements in python are equivalent:\n",
        "\n",
        "```\n",
        "x = []\n",
        "for i in range(0,5):\n",
        "  x.append(i)\n",
        "```\n",
        "```\n",
        "[x for x in range(0,5)]\n",
        "```\n",
        "both return a list filled with values 0 to 4. How does this list comprehension syntax work and what can we do with it?\n",
        "\n",
        "The general syntax goes as follows:\n",
        "\n",
        "``` [ statement for item in iterable if logic condition ]```\n",
        "\n",
        "The statrment can be anything, but is usually a function of the item being iterated over in the list comprehension.\n",
        "\n",
        "For a statement with a logical condition, its equivalent to putting an if statement with a for loop\n",
        "\n",
        "```\n",
        "x = []\n",
        "for i in range(0,10):\n",
        "  if x < 5:\n",
        "    x.append(i)\n",
        "```\n",
        "```\n",
        "[x for x in range(0,10) if x < 5]\n",
        "```\n",
        "\n",
        "Lets take a look at some examples:\n",
        "\n",
        "| Example    | Description | Result |\n",
        "| ----------- | ----------- | ------------ |\n",
        "| ```[int(x) for x in ['1','2','3']]```  |  for every item in the list of strings, convert it to an integer | ```[1,2,3] ```   |\n",
        "| ```[1 for x in ['1','2','3']]```  | would just return a 1 three times in a list since we dont change the statement in this instance |```[1,1,1]```\n",
        "| ```[int(x)==1 for x in ['1','2','3']]```  |  for every item in the list of strings, convert it to an integer, then return true if its equal to 1 | ```[True, False, False] ```   |\n",
        "| ```[int(x) for x in ['1','2','3'] if int(x) < 3]```  |  for every item in the list of strings, convert it to an integer, only keep it if its less than 3 | ```[1,2] ```   |\n",
        "\n"
      ]
    },
    {
      "cell_type": "code",
      "metadata": {
        "id": "ynWDFP3DWA6R",
        "colab": {
          "base_uri": "https://localhost:8080/"
        },
        "outputId": "e60e761d-9fbb-4fae-a8c3-e260963cb6a2"
      },
      "source": [
        "#  Example of getting the number of a set of characters in a string\n",
        "\n",
        "# our iterable, remember you can iterate over strings\n",
        "test_string = 'Hello I am a long string with lots of characters, Lorem ipsum dolor sit amet, consectetur adipiscing elit, sed do eiusmod tempor'\n",
        "# Lets use list comprehension to find out how many of a character set are in here\n",
        "character_set = ['e','a','i','o','u']\n",
        "\n",
        "matching_characters = [x.lower() for x in test_string if x.lower() in character_set]  # returns all matching characters\n",
        "print(matching_characters)\n",
        "character_values = [matching_characters.count(y) for y in character_set] # count the entries in the matching character list to get the values\n",
        "print(character_values)\n",
        "\n",
        "dict(zip(character_set, character_values ))  #turn it into a dictionary\n"
      ],
      "execution_count": 13,
      "outputs": [
        {
          "output_type": "stream",
          "name": "stdout",
          "text": [
            "['e', 'o', 'i', 'a', 'a', 'o', 'i', 'i', 'o', 'o', 'a', 'a', 'e', 'o', 'e', 'i', 'u', 'o', 'o', 'i', 'a', 'e', 'o', 'e', 'e', 'u', 'a', 'i', 'i', 'i', 'e', 'i', 'e', 'o', 'e', 'i', 'u', 'o', 'e', 'o']\n",
            "[10, 6, 10, 11, 3]\n"
          ]
        },
        {
          "output_type": "execute_result",
          "data": {
            "text/plain": [
              "{'e': 10, 'a': 6, 'i': 10, 'o': 11, 'u': 3}"
            ]
          },
          "metadata": {},
          "execution_count": 13
        }
      ]
    },
    {
      "cell_type": "code",
      "metadata": {
        "id": "vn3WA7_OWA8-",
        "colab": {
          "base_uri": "https://localhost:8080/"
        },
        "outputId": "1deee814-b3b0-40f4-8c3d-5aa193945302"
      },
      "source": [
        "#  Lets get the full counts of all unique characters in this string!!\n",
        "\n",
        "# our iterable, remember you can iterate over strings\n",
        "test_string = 'Hello I am a long string with lots of characters, Lorem ipsum dolor sit amet, consectetur adipiscing elit, sed do eiusmod tempor'\n",
        "\n",
        "character_set = list(set(list(test_string.lower()))) #all unique characters\n",
        "print(character_set)\n",
        "\n",
        "matching_characters = [x.lower() for x in test_string if x.lower() in character_set]  # returns all matching characters\n",
        "print(matching_characters)\n",
        "\n",
        "character_values = [matching_characters.count(y) for y in character_set] # count the entries in the matching character list to get the values\n",
        "\n",
        "dict(zip(character_set, character_values ))  #turn it into a dictionary"
      ],
      "execution_count": 14,
      "outputs": [
        {
          "output_type": "stream",
          "name": "stdout",
          "text": [
            "['p', 'g', 'c', 'e', 'h', 'u', 's', 'o', ' ', 'm', 't', 'l', 'f', 'i', 'r', 'd', 'w', 'a', ',', 'n']\n",
            "['h', 'e', 'l', 'l', 'o', ' ', 'i', ' ', 'a', 'm', ' ', 'a', ' ', 'l', 'o', 'n', 'g', ' ', 's', 't', 'r', 'i', 'n', 'g', ' ', 'w', 'i', 't', 'h', ' ', 'l', 'o', 't', 's', ' ', 'o', 'f', ' ', 'c', 'h', 'a', 'r', 'a', 'c', 't', 'e', 'r', 's', ',', ' ', 'l', 'o', 'r', 'e', 'm', ' ', 'i', 'p', 's', 'u', 'm', ' ', 'd', 'o', 'l', 'o', 'r', ' ', 's', 'i', 't', ' ', 'a', 'm', 'e', 't', ',', ' ', 'c', 'o', 'n', 's', 'e', 'c', 't', 'e', 't', 'u', 'r', ' ', 'a', 'd', 'i', 'p', 'i', 's', 'c', 'i', 'n', 'g', ' ', 'e', 'l', 'i', 't', ',', ' ', 's', 'e', 'd', ' ', 'd', 'o', ' ', 'e', 'i', 'u', 's', 'm', 'o', 'd', ' ', 't', 'e', 'm', 'p', 'o', 'r']\n"
          ]
        },
        {
          "output_type": "execute_result",
          "data": {
            "text/plain": [
              "{'p': 3,\n",
              " 'g': 3,\n",
              " 'c': 5,\n",
              " 'e': 10,\n",
              " 'h': 3,\n",
              " 'u': 3,\n",
              " 's': 9,\n",
              " 'o': 11,\n",
              " ' ': 21,\n",
              " 'm': 6,\n",
              " 't': 10,\n",
              " 'l': 7,\n",
              " 'f': 1,\n",
              " 'i': 10,\n",
              " 'r': 7,\n",
              " 'd': 5,\n",
              " 'w': 1,\n",
              " 'a': 6,\n",
              " ',': 3,\n",
              " 'n': 4}"
            ]
          },
          "metadata": {},
          "execution_count": 14
        }
      ]
    },
    {
      "cell_type": "markdown",
      "metadata": {
        "id": "ttPHCFS9WDUw"
      },
      "source": [
        "## Function Definitions\n",
        "\n",
        "What if you dont want to copy paste a large chunk of code every time you need to execute it?\n",
        "\n",
        "Heres where **functions** come in. Say we to use the previous sections code that gets the counts of all unique characters in a string, we can put that into something called a function definition.\n",
        "\n",
        "\n",
        "```\n",
        "def name(inputs, *args, **kwargs):\n",
        "  '''\n",
        "  doc string, documentation goes here\n",
        "  '''\n",
        "  code here\n",
        "  return result\n",
        "```\n",
        "\n",
        "Here we have introduced a couple new things, inputs, arguments (```*args```) and keyword arguments (```**kwargs```). Inputs are required inputs to the function otherwise python will return an error, Arguments are arbitrary inputs that have no keyword associated with them, and keyword arguments have a keyword associated with them. return denotes a variable to return from the function.\n",
        "\n",
        "```*``` denotes an unknown number of inputs, python will give these to the code in a tuple\n",
        "\n",
        "```**``` denotes an unknown number of named inputs that are provided to the code in a dictionary.\n",
        "\n",
        "So lets take our previous string to character counts result and turn it into a function!\n"
      ]
    },
    {
      "cell_type": "code",
      "metadata": {
        "id": "33ismCTPH6At"
      },
      "source": [
        "def str_to_char_count_dict(string, ):\n",
        "  '''\n",
        "  This code takes a string and will return a dictionary of unique lowercase characters and their counts within the input string\n",
        "\n",
        "  Parameters\n",
        "  ----------\n",
        "  string : str\n",
        "    input string to convert\n",
        "\n",
        "  Returns\n",
        "  -------\n",
        "  char_dictionary : dict\n",
        "    a dictionary of character counts from a string\n",
        "  '''\n",
        "  character_set = list(set(list(string.lower()))) #all unique characters\n",
        "  matching_characters = [x.lower() for x in string if x.lower() in character_set]  # returns all matching characters\n",
        "  character_values = [matching_characters.count(y) for y in character_set] # count the entries in the matching character list to get the values\n",
        "\n",
        "  return dict(zip(character_set, character_values ))  #turn it into a dictionary"
      ],
      "execution_count": 15,
      "outputs": []
    },
    {
      "cell_type": "code",
      "metadata": {
        "id": "-ey-rFuzWHcC",
        "colab": {
          "base_uri": "https://localhost:8080/"
        },
        "outputId": "b35a6258-3a05-4f56-a216-c9ef2425c2e0"
      },
      "source": [
        "# lets use our new function!\n",
        "\n",
        "str_to_char_count_dict('new string!')"
      ],
      "execution_count": 16,
      "outputs": [
        {
          "output_type": "execute_result",
          "data": {
            "text/plain": [
              "{'g': 1,\n",
              " 's': 1,\n",
              " ' ': 1,\n",
              " 't': 1,\n",
              " '!': 1,\n",
              " 'w': 1,\n",
              " 'e': 1,\n",
              " 'i': 1,\n",
              " 'r': 1,\n",
              " 'n': 2}"
            ]
          },
          "metadata": {},
          "execution_count": 16
        }
      ]
    },
    {
      "cell_type": "markdown",
      "metadata": {
        "id": "Hb68OcBoXWYE"
      },
      "source": [
        "How about what if we want more options for the user, with the same function?\n",
        "\n",
        "Here is where keyword arguments are useful as they allow you to set a default behaviour for a function. Lets add the functionality to keep the case when converting our string in the function. We denote this by adding the named argument keep_case with its default behaviour of false."
      ]
    },
    {
      "cell_type": "code",
      "metadata": {
        "id": "zvOOXGXoWHg7"
      },
      "source": [
        "def str_to_char_count_dict_new(string, keep_case=False):\n",
        "  '''\n",
        "  This code takes a string and will return a dictionary of unique lowercase characters and their counts within the input string\n",
        "  This docstring formatting is called a numpy docstring\n",
        "  https://numpydoc.readthedocs.io/en/latest/format.html\n",
        "\n",
        "  Parameters\n",
        "  ----------\n",
        "  string : str\n",
        "    input string to convert\n",
        "  keep_case: bool, default: False\n",
        "    keep the case of the string when converting\n",
        "\n",
        "  Returns\n",
        "  -------\n",
        "  char_dictionary : dict\n",
        "    a dictionary of character counts from a string\n",
        "  '''\n",
        "\n",
        "  if keep_case:\n",
        "    character_set = list(set(list(string))) #all unique characters (keep case)\n",
        "    matching_characters = [x for x in string if x in character_set]  # returns all matching characters doesnt convert case\n",
        "  else:\n",
        "    character_set = list(set(list(string.lower()))) #all unique characters\n",
        "    matching_characters = [x.lower() for x in string if x.lower() in character_set]  # returns all matching characters converts to lowercase\n",
        "  character_values = [matching_characters.count(y) for y in character_set] # count the entries in the matching character list to get the values\n",
        "\n",
        "  return dict(zip(character_set, character_values ))  #turn it into a dictionary"
      ],
      "execution_count": 17,
      "outputs": []
    },
    {
      "cell_type": "code",
      "metadata": {
        "colab": {
          "base_uri": "https://localhost:8080/"
        },
        "id": "k9fJSuSzX7Vw",
        "outputId": "3d97de54-a178-4e51-a798-5162b317bcc5"
      },
      "source": [
        "print(str_to_char_count_dict_new('NeW sTrInG!', keep_case=False))\n",
        "print()\n",
        "print(str_to_char_count_dict_new('NeW sTrInG!', keep_case=True))"
      ],
      "execution_count": 18,
      "outputs": [
        {
          "output_type": "stream",
          "name": "stdout",
          "text": [
            "{'g': 1, 's': 1, ' ': 1, 't': 1, '!': 1, 'w': 1, 'e': 1, 'i': 1, 'r': 1, 'n': 2}\n",
            "\n",
            "{'s': 1, ' ': 1, '!': 1, 'T': 1, 'I': 1, 'e': 1, 'G': 1, 'W': 1, 'N': 1, 'r': 1, 'n': 1}\n"
          ]
        }
      ]
    },
    {
      "cell_type": "markdown",
      "metadata": {
        "id": "pduOPRNzWHsi"
      },
      "source": [
        "## Lambda function\n",
        "\n",
        "What if we don't want to go through the full trouble of writing and defining a function and just want a simple object that does one command? Lambda is the tool for you. Lambda also allows you to redefine and create arbitrary functions programmatically!\n",
        "\n",
        "```obj = lambda *parameters: function```\n",
        "\n",
        "\n",
        "| Example    | Description | Result |\n",
        "| ----------- | ----------- | ------------ |\n",
        "| ``` squarer = lambda x: x**2``` |  provides a function that squares a single input | ```squarer(3) = 9 ```   |\n",
        "| ``` line = lambda x,m,b: m*x + b``` |  provides an y for the line given an x, m and b | ```line(3, 2, 5) = 11```   |\n",
        "\n"
      ]
    },
    {
      "cell_type": "code",
      "metadata": {
        "id": "QkqJ3nw0WMji",
        "colab": {
          "base_uri": "https://localhost:8080/"
        },
        "outputId": "8a01e2e0-721a-4e2f-b36b-43f3f5979614"
      },
      "source": [
        "squarer = lambda x: x**2\n",
        "\n",
        "print(squarer(3))\n",
        "print([squarer(x) for x in range(0,5)])"
      ],
      "execution_count": 19,
      "outputs": [
        {
          "output_type": "stream",
          "name": "stdout",
          "text": [
            "9\n",
            "[0, 1, 4, 9, 16]\n"
          ]
        }
      ]
    },
    {
      "cell_type": "code",
      "metadata": {
        "id": "oBLZCknmWMmC",
        "colab": {
          "base_uri": "https://localhost:8080/"
        },
        "outputId": "c791cd78-a4d9-4dfe-f053-a855fddc262a"
      },
      "source": [
        "def power_generator(n):  # this function makes a function to the power of n\n",
        "   return lambda x: x**n\n",
        "\n",
        "power_functions = [power_generator(i) for i in range(0,5)] # = [x**0, x**1, x**2, x**3, x**4]\n",
        "[pf(2) for pf in power_functions] # x = 2\n"
      ],
      "execution_count": 20,
      "outputs": [
        {
          "output_type": "execute_result",
          "data": {
            "text/plain": [
              "[1, 2, 4, 8, 16]"
            ]
          },
          "metadata": {},
          "execution_count": 20
        }
      ]
    },
    {
      "cell_type": "markdown",
      "metadata": {
        "id": "LPeOy1C0H7Et"
      },
      "source": [
        "## Map\n",
        "\n",
        "Finally, a map is an easy way to pass an iterable to a function that only accepts limited inputs\n",
        "\n",
        "```\n",
        "map(function_to_iterate, iterable)\n",
        "```\n",
        "Results must be pulled out by converting the map result to a list\n",
        "\n",
        "```\n",
        "results = list(map_obj)\n",
        "```\n",
        "\n",
        "\n"
      ]
    },
    {
      "cell_type": "code",
      "metadata": {
        "colab": {
          "base_uri": "https://localhost:8080/"
        },
        "id": "DaqDD8b1dA7n",
        "outputId": "aea1e149-858f-4b19-c4b6-525fb0afcb64"
      },
      "source": [
        "squarer = lambda x: x**2\n",
        "map_obj = map(squarer, range(0,10))\n",
        "print(list(map_obj))"
      ],
      "execution_count": 21,
      "outputs": [
        {
          "output_type": "stream",
          "name": "stdout",
          "text": [
            "[0, 1, 4, 9, 16, 25, 36, 49, 64, 81]\n"
          ]
        }
      ]
    },
    {
      "cell_type": "markdown",
      "source": [
        "## Generators\n",
        "\n",
        "Generators are useful when writing large iterators or handling memory intensive iterable objects. Generators are defined by having a ```yeild``` statement inside their function definition, and are called by ```next```. **You can only iterate once over the generator object!!** For more indepth details you can read their documentation page:\n",
        "\n",
        "https://docs.python.org/3/howto/functional.html#generators\n",
        "\n",
        "The ```map``` function we just went over (as of Python 3.0+) returns a generator object instead of a list, that is why we converted it to a list to print it out. But we could have just as easily done the following:"
      ],
      "metadata": {
        "id": "OJjXHhU8OFye"
      }
    },
    {
      "cell_type": "code",
      "source": [
        "squarer = lambda x: x**2\n",
        "map_obj = map(squarer, range(0,10))\n",
        "print(map_obj)\n",
        "\n",
        "# iterating over the generator object\n",
        "for i in map_obj:\n",
        "  print(i)\n",
        "\n",
        "# since we iterated over it already this will throw an error!\n",
        "# next(map_obj)\n",
        "\n",
        "print('using next')\n",
        "# im going to remake the generator and then use next to iterate over it\n",
        "map_obj = map(squarer, range(0,10))\n",
        "for i in range(10):\n",
        "  print(next(map_obj))"
      ],
      "metadata": {
        "colab": {
          "base_uri": "https://localhost:8080/"
        },
        "id": "IKGLfa6vPdvD",
        "outputId": "c858fecc-852e-4404-d681-edc4fcc7c958"
      },
      "execution_count": 22,
      "outputs": [
        {
          "output_type": "stream",
          "name": "stdout",
          "text": [
            "<map object at 0x798ae7fd8100>\n",
            "0\n",
            "1\n",
            "4\n",
            "9\n",
            "16\n",
            "25\n",
            "36\n",
            "49\n",
            "64\n",
            "81\n",
            "using next\n",
            "0\n",
            "1\n",
            "4\n",
            "9\n",
            "16\n",
            "25\n",
            "36\n",
            "49\n",
            "64\n",
            "81\n"
          ]
        }
      ]
    },
    {
      "cell_type": "markdown",
      "source": [
        "## Questions\n",
        "\n",
        "* What's the difference between a for loop and list comprehensions?\n",
        "* What are some issues with iterating over a dictionary's keys?\n",
        "* What's the command to get out of a while loop?\n",
        "* What's the difference between \"is\" operator and \"isinstance()\"?\n",
        "* How do you convert a generator to a list?\n",
        "* What's the general formula for a list comprehension?\n"
      ],
      "metadata": {
        "id": "Mh8LsOuifVsQ"
      }
    },
    {
      "cell_type": "code",
      "source": [
        "## Question 1:\n",
        "## Write a for loop that runs for 100 iterations and prints out a statement every 25 iterations\n",
        "[x for x in range(0,101) if x == 25 or x == 25 or x == 50 or x == 75 or x == 100]"
      ],
      "metadata": {
        "id": "A-Y78YtuL2R9",
        "colab": {
          "base_uri": "https://localhost:8080/"
        },
        "outputId": "d16db0e5-b0dc-4603-fe15-70f18be16139"
      },
      "execution_count": 23,
      "outputs": [
        {
          "output_type": "execute_result",
          "data": {
            "text/plain": [
              "[25, 50, 75, 100]"
            ]
          },
          "metadata": {},
          "execution_count": 23
        }
      ]
    },
    {
      "cell_type": "code",
      "source": [
        "## Question 2: Fizzbuzz (a classic)\n",
        "## Write a loop that runs for 100 iterations and prints out the iteration number.\n",
        "## But for numbers divisible by 3 print out Fizz instead of the number,\n",
        "## and for numbers divisible by 5 print out Buzz instead of the number. For\n",
        "## numbers divisible by 3 and 5 print out \"FizzBuzz\"\n",
        "i = 0\n",
        "while i in range(0,101):\n",
        "  if i % 3 == 0 and i % 5 == 0:\n",
        "    print('FizzBuzz')\n",
        "    i += 1\n",
        "  elif i % 5 == 0:\n",
        "    print('Buzz')\n",
        "    i += 1\n",
        "  elif i % 3 == 0:\n",
        "    print('Fizz')\n",
        "    i += 1\n",
        "  else:\n",
        "    print(i)\n",
        "    i += 1\n",
        ""
      ],
      "metadata": {
        "id": "RUSU-tHmL2jm",
        "colab": {
          "base_uri": "https://localhost:8080/"
        },
        "outputId": "891598c2-9851-4526-d2e5-3a9cefa2205e"
      },
      "execution_count": 24,
      "outputs": [
        {
          "output_type": "stream",
          "name": "stdout",
          "text": [
            "FizzBuzz\n",
            "1\n",
            "2\n",
            "Fizz\n",
            "4\n",
            "Buzz\n",
            "Fizz\n",
            "7\n",
            "8\n",
            "Fizz\n",
            "Buzz\n",
            "11\n",
            "Fizz\n",
            "13\n",
            "14\n",
            "FizzBuzz\n",
            "16\n",
            "17\n",
            "Fizz\n",
            "19\n",
            "Buzz\n",
            "Fizz\n",
            "22\n",
            "23\n",
            "Fizz\n",
            "Buzz\n",
            "26\n",
            "Fizz\n",
            "28\n",
            "29\n",
            "FizzBuzz\n",
            "31\n",
            "32\n",
            "Fizz\n",
            "34\n",
            "Buzz\n",
            "Fizz\n",
            "37\n",
            "38\n",
            "Fizz\n",
            "Buzz\n",
            "41\n",
            "Fizz\n",
            "43\n",
            "44\n",
            "FizzBuzz\n",
            "46\n",
            "47\n",
            "Fizz\n",
            "49\n",
            "Buzz\n",
            "Fizz\n",
            "52\n",
            "53\n",
            "Fizz\n",
            "Buzz\n",
            "56\n",
            "Fizz\n",
            "58\n",
            "59\n",
            "FizzBuzz\n",
            "61\n",
            "62\n",
            "Fizz\n",
            "64\n",
            "Buzz\n",
            "Fizz\n",
            "67\n",
            "68\n",
            "Fizz\n",
            "Buzz\n",
            "71\n",
            "Fizz\n",
            "73\n",
            "74\n",
            "FizzBuzz\n",
            "76\n",
            "77\n",
            "Fizz\n",
            "79\n",
            "Buzz\n",
            "Fizz\n",
            "82\n",
            "83\n",
            "Fizz\n",
            "Buzz\n",
            "86\n",
            "Fizz\n",
            "88\n",
            "89\n",
            "FizzBuzz\n",
            "91\n",
            "92\n",
            "Fizz\n",
            "94\n",
            "Buzz\n",
            "Fizz\n",
            "97\n",
            "98\n",
            "Fizz\n",
            "Buzz\n"
          ]
        }
      ]
    },
    {
      "cell_type": "code",
      "source": [
        "## Question 3:\n",
        "## Write a function definition that returns the decimal of a floating point number\n",
        "\n",
        "def decimal(float):\n",
        "  return float - int(float)\n",
        "\n",
        "print(decimal(1.123))\n",
        "\n",
        "## 3B:\n",
        "## Write this function as a lambda function\n",
        "\n",
        "decimal_lambda = lambda x: x - int(x)\n",
        "\n",
        "print(decimal_lambda(1.123))\n",
        "\n",
        "## 3C (my own question):\n",
        "## Convert an int to a float\n",
        "def convert(int):\n",
        "  return float(int), '%f'%int\n",
        "\n",
        "convert(12)"
      ],
      "metadata": {
        "id": "cH-gTM6eNgvn",
        "colab": {
          "base_uri": "https://localhost:8080/"
        },
        "outputId": "a6706d24-b365-4a27-999f-9a205c95527d"
      },
      "execution_count": 25,
      "outputs": [
        {
          "output_type": "stream",
          "name": "stdout",
          "text": [
            "0.123\n",
            "0.123\n"
          ]
        },
        {
          "output_type": "execute_result",
          "data": {
            "text/plain": [
              "(12.0, '12.000000')"
            ]
          },
          "metadata": {},
          "execution_count": 25
        }
      ]
    },
    {
      "cell_type": "code",
      "source": [
        "## Question 4:\n",
        "## Write a while loop that breaks when a counter gets to 100\n",
        "counter = 0\n",
        "while i in range(0,2000):\n",
        "  print(counter)\n",
        "  counter += 1\n",
        "  if counter == 101:\n",
        "    break"
      ],
      "metadata": {
        "id": "Kq0F1qm5QQNG",
        "colab": {
          "base_uri": "https://localhost:8080/"
        },
        "outputId": "9315f6f5-79c3-4f65-f977-3ebbe4bb4b0f"
      },
      "execution_count": 26,
      "outputs": [
        {
          "output_type": "stream",
          "name": "stdout",
          "text": [
            "0\n",
            "1\n",
            "2\n",
            "3\n",
            "4\n",
            "5\n",
            "6\n",
            "7\n",
            "8\n",
            "9\n",
            "10\n",
            "11\n",
            "12\n",
            "13\n",
            "14\n",
            "15\n",
            "16\n",
            "17\n",
            "18\n",
            "19\n",
            "20\n",
            "21\n",
            "22\n",
            "23\n",
            "24\n",
            "25\n",
            "26\n",
            "27\n",
            "28\n",
            "29\n",
            "30\n",
            "31\n",
            "32\n",
            "33\n",
            "34\n",
            "35\n",
            "36\n",
            "37\n",
            "38\n",
            "39\n",
            "40\n",
            "41\n",
            "42\n",
            "43\n",
            "44\n",
            "45\n",
            "46\n",
            "47\n",
            "48\n",
            "49\n",
            "50\n",
            "51\n",
            "52\n",
            "53\n",
            "54\n",
            "55\n",
            "56\n",
            "57\n",
            "58\n",
            "59\n",
            "60\n",
            "61\n",
            "62\n",
            "63\n",
            "64\n",
            "65\n",
            "66\n",
            "67\n",
            "68\n",
            "69\n",
            "70\n",
            "71\n",
            "72\n",
            "73\n",
            "74\n",
            "75\n",
            "76\n",
            "77\n",
            "78\n",
            "79\n",
            "80\n",
            "81\n",
            "82\n",
            "83\n",
            "84\n",
            "85\n",
            "86\n",
            "87\n",
            "88\n",
            "89\n",
            "90\n",
            "91\n",
            "92\n",
            "93\n",
            "94\n",
            "95\n",
            "96\n",
            "97\n",
            "98\n",
            "99\n",
            "100\n"
          ]
        }
      ]
    }
  ]
}